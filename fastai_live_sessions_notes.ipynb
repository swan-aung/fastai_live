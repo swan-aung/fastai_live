{
 "cells": [
  {
   "cell_type": "code",
   "execution_count": null,
   "id": "b19642e1",
   "metadata": {},
   "outputs": [],
   "source": []
  },
  {
   "cell_type": "markdown",
   "id": "151aba97",
   "metadata": {},
   "source": [
    "# Live session 1"
   ]
  },
  {
   "cell_type": "markdown",
   "id": "ec972afa",
   "metadata": {},
   "source": [
    "###### Terminal\n",
    "The terminal is great is because it is generally easier to understand when speaking with language rather with pictures and\n",
    "diagrams\n",
    "\n",
    "Language is more powerful in communicating in both with people and machine although it takes some time in learning it."
   ]
  },
  {
   "cell_type": "markdown",
   "id": "b5d704e4",
   "metadata": {},
   "source": [
    "###### Install linux distribution in windows using\n",
    "\n",
    "link : https://learn.microsoft.com/en-us/windows/wsl/install\n",
    "\n",
    "To change default terminal, go to terminal setting and under startup tab."
   ]
  },
  {
   "cell_type": "markdown",
   "id": "69a9ace9",
   "metadata": {},
   "source": [
    "In windows,\n",
    "\n",
    "**`window key + tab`** $\\rightarrow$ to change between screens\n",
    "\n",
    "**`alt + enter`** $\\rightarrow$  full screen\n",
    "\n",
    "**`ctrl + tab`** $\\rightarrow$ to change between terminal\n",
    "\n",
    "**`ctrl + shift + 1`** $\\rightarrow$ to create new terminal"
   ]
  },
  {
   "cell_type": "markdown",
   "id": "c575eb7d",
   "metadata": {},
   "source": [
    "If you want more customisation of the terminal, check the below link\n",
    "###### A Guide to Customising the Windows Terminal (optional)\n",
    "link: https://freshman.tech/windows-terminal-guide/#customising-the-profile-settings"
   ]
  },
  {
   "cell_type": "code",
   "execution_count": null,
   "id": "15d7d185",
   "metadata": {},
   "outputs": [],
   "source": []
  },
  {
   "cell_type": "markdown",
   "id": "64bd5722",
   "metadata": {},
   "source": [
    "##### Python installation\n",
    "Never use the default system python\n",
    "\n",
    "**`which python`** $\\rightarrow$ shows from which program python is running\n",
    "\n",
    "\n",
    "You need to be familiar with the concept of diretory using terminal.\n",
    "\n",
    "**`pwd`** $\\rightarrow$ print working directory tells the current directory that you are currently in.\n",
    "\n",
    "Generally, we want to install everything in home directory.\n",
    "\n",
    "Install with mamba\n",
    "\n",
    "**`mkdir`** $\\rightarrow$ make directory\n",
    "\n",
    "**`wget`** $\\rightarrow$ gets a url and download\n",
    "\n",
    "make sure you know how to paste things in terminal\n",
    "\n",
    "Jeremy strongly recommends using keyboard shortcuts wherever possible.\n",
    "\n",
    "**`ctrl+ shift+1`** $\\rightarrow$ new terminal\n",
    "\n",
    "**`sudo -u name -i`** $\\rightarrow$ to switch user\n",
    "\n",
    "**`~`** (tilde) $\\rightarrow$ home directory\n",
    "\n",
    "If you have already installed anaconda or mini conda delete it.\n",
    "\n",
    "**`mv miniconda miniconda.old**` $\\rightarrow$ move miniconda into miniconda.old\n",
    "\n",
    "**`rm -rf`** $\\rightarrow$ rm means remove, -r means recursively (all folders and files underneath),\n",
    "            f for force (do this without asking)\n",
    "            \n",
    "**`ls -l -h`** $\\rightarrow$ -l for long form (give you more information about each items), -h for human readable\n",
    "\n",
    "You can also combine multiple flag like this:\n",
    "\n",
    "**`ls -lh`**"
   ]
  },
  {
   "cell_type": "markdown",
   "id": "793e12db",
   "metadata": {},
   "source": [
    "**.sh file a shell script** ( a list of shell commands)\n",
    "\n",
    "use tab to autocomplete things\n",
    "\n",
    "**`less shell_script_file`** $\\rightarrow$ The less command is a Linux terminal pager that shows a file's contents one screen at a time. \n",
    "\n",
    "How to use less command : https://phoenixnap.com/kb/less-command-in-linux\n",
    "\n",
    "The shell that most linux use by default is bash, \n",
    "The shell that mac use by default is zsh, \n",
    "\n",
    "**`bash shell_script`** $\\rightarrow$ run this shell script\n",
    "\n",
    "do you want this to initialize conda/mamba $\\rightarrow$ yes to automatically setup python environment\n",
    "\n",
    "restart shell for the changes.\n",
    "\n",
    "**`ls -a`** $\\rightarrow$ -a all files (show hidden files) anything that starts with a dot is hidden\n",
    "\n",
    "**`.bashrc`** $\\rightarrow$ is a script (all the things in this file are run automatically every time the teriminal is run)\n",
    "\n",
    "use fastsetup to rapidly setup all the things : https://github.com/fastai/fastsetup\n",
    "\n",
    "**`ls --help`** $\\rightarrow$ list all the flags\n",
    "\n",
    "**You need to get familiarize with git as it is an extremely useful tool**"
   ]
  },
  {
   "cell_type": "code",
   "execution_count": null,
   "id": "e9a5e2ce",
   "metadata": {},
   "outputs": [],
   "source": []
  },
  {
   "cell_type": "markdown",
   "id": "ee50b53e",
   "metadata": {
    "ExecuteTime": {
     "end_time": "2023-01-24T14:52:23.002343Z",
     "start_time": "2023-01-24T14:52:22.965820Z"
    }
   },
   "source": [
    "**`download setup-conda.sh from fastai`** $\\rightarrow$ wget https://raw.githubusercontent.com/fastai/fastsetup/master/setup-conda.sh\n",
    "\n",
    "**`bash shell_script -b`** $\\rightarrow$ to not ask you for license aggreement\n",
    "\n",
    "\n",
    "In shell script,\n",
    "**` #!/user/bin/env bash`** $\\rightarrow$ tell the computer how to run the script ( to run this with bash)\n",
    "\n",
    "So you can just type \n",
    "\n",
    "**`setup-conda.sh`**\n",
    "\n",
    "**`./`** $\\rightarrow$ current directory\n",
    "\n",
    "To change file permissions,\n",
    "r for read, w for write, x for execute\n",
    "\n",
    "**`chmod`** $\\rightarrow$ to change file permissions\n",
    "\n",
    "**`chmod u+x setup-conda.sh`** $\\rightarrow$ add execute permission to user\n",
    "\n",
    "to check which python version will stop getting security support: https://endoflife.date/python\n",
    "\n",
    "Jeremy tend to avoid use the most recent version because it takes awhile to get things compatible with python. (penultimate one is generally the good one to use)\n",
    "\n",
    "mamba and conda are basically the same. (mamba is faster than conda)\n",
    "\n",
    "**`ctrl+ d `** $\\rightarrow$ to close most programs in terminal\n",
    "\n",
    "To install Pytorch : https://pytorch.org/get-started/locally/\n",
    "\n",
    "conda install pytorch torchvision torchaudio cpuonly -c pytorch $\\rightarrow$ -c for channel (it will use pytorch channel)\n",
    "\n",
    "Generally conda install or mamba install is better than pip install  (as the former ones install all the required binary dependencies automatically for you) \n",
    "\n",
    "**`mamba install jupyterlab `** $\\rightarrow$ install jupyter lab\n",
    "\n",
    "bash commands:\n",
    "\n",
    "**`.bash_history`** $\\rightarrow$ can see all the previous shell commands that you type\n",
    "\n",
    "**`ctrl + r`** $\\rightarrow$ for reverse search \n",
    "\n",
    "ju to search command that starts with ju\n",
    "\n",
    "**`!ju`** $\\rightarrow$ runs the last thing that starts with letter 'ju'  (! plus strings that you want to starts with)\n",
    "\n",
    "**`!!`** $\\rightarrow$ rerun the last command\n",
    "\n",
    "**`ctrl+e`** $\\rightarrow$ go to the end of the line in terminal\n",
    "\n",
    "**`ctrl+a`** $\\rightarrow$ go to the start of the line in terminal\n",
    "\n",
    "**`alt+ left arrow or right arrow`** $\\rightarrow$ to go to left word or right word\n",
    "\n",
    "**`jupyter lab --no-browser`** $\\rightarrow$ --no-browser means run jupyter lab without browser \n",
    "\n",
    "**`alias jl=\"jupyter lab --no-browser\"`** $\\rightarrow$ set jl for shortcut as 'jupyter lab --no-browser' command\n",
    " \n",
    "copy and paste the above command jl=\"jupyter lab --no-browser\" in .bashrc so that it will automatically run when you start the terminal\n",
    "\n",
    "**`explorer.exe .`** $\\rightarrow$ . means run this in current directory (it opens window explorer in the directory you are currently in)"
   ]
  },
  {
   "cell_type": "markdown",
   "id": "a2c0b0e0",
   "metadata": {},
   "source": [
    "# Live session 2"
   ]
  },
  {
   "cell_type": "markdown",
   "id": "c1ff864f",
   "metadata": {},
   "source": [
    "repository a get repository is a folder containing files and potentially subfolders \n",
    "\n",
    "which  you can easily store somewhere else and the most common place people store it is github.\n",
    "\n",
    "\n",
    "\n",
    "git hub provides free storage of git repositories \n",
    "\n",
    "git keeps a copy of every version of your files and you can switch back to any previous version at any time so if you ever mess something up and save it and then realize later oh i messed it up you can go back and get an old version\n",
    "\n"
   ]
  },
  {
   "cell_type": "markdown",
   "id": "9d1cf83f",
   "metadata": {},
   "source": [
    ".gitignore file wlists all the kinds of files you don't want to store \n",
    "\n",
    "commit means save with version control"
   ]
  },
  {
   "cell_type": "markdown",
   "id": "c26a569f",
   "metadata": {},
   "source": [
    ".gitconfig\n",
    "\n",
    "cd space hyphen and \n",
    "\n",
    "cd - space cd hyphen --> change directory to your most recently used directory \n",
    "\n",
    "pushd ~\n",
    "\n",
    "popd\n",
    "\n",
    "git push to update and save things\n",
    "\n",
    "cat --> display contents of a file"
   ]
  },
  {
   "cell_type": "markdown",
   "id": "4c52ab30",
   "metadata": {},
   "source": [
    " nano test\n",
    "git add test\n",
    "git commit -m 'test added'\n",
    "git push \n",
    "\n",
    "git rm test\n",
    "git push\n",
    "\n",
    "git rm test\n",
    "git commit -m 'remove test'\n",
    "git push"
   ]
  },
  {
   "cell_type": "markdown",
   "id": "e69e6c30",
   "metadata": {},
   "source": [
    "\n",
    "tmux is something which actually runs inside your terminal so regardless of what operating system you're on and what your preferred terminal is you'll always be able to use tmux "
   ]
  },
  {
   "cell_type": "code",
   "execution_count": null,
   "id": "a9f7c1b6",
   "metadata": {},
   "outputs": [],
   "source": [
    "sudo apt install tmux --> apt install linux ubuntu software"
   ]
  },
  {
   "cell_type": "markdown",
   "id": "256ca51a",
   "metadata": {},
   "source": [
    "To split the pane horizontally\n",
    "\n",
    "- Press Ctrl+B\n",
    "\n",
    "- Release pressed keys in Step 1\n",
    "\n",
    "- Press \"  (on many keyboards, this is Shift+')\n",
    "\n",
    "To split the pane vertically\n",
    "\n",
    "- Press Ctrl+B\n",
    "\n",
    "- Release pressed keys in Step 1\n",
    "- Press %  (on many keyboards, this is Shift+5)\n",
    "\n",
    "ctrl + d --> close pane\n",
    "\n",
    "ctrl + b and press arrow keys to move around the panes\n",
    "\n",
    "ctrl + b plus z to zoom in and then ctrl + b plus z to zoom out\n",
    "\n",
    "ctrl + b plus d --> detach from tmux\n",
    "\n",
    "tmux a --> to attach tmux"
   ]
  },
  {
   "cell_type": "code",
   "execution_count": null,
   "id": "c1033abb",
   "metadata": {},
   "outputs": [],
   "source": []
  },
  {
   "cell_type": "markdown",
   "id": "a8973b42",
   "metadata": {},
   "source": [
    "Here are some commonly-used tips and tricks:\n",
    "\n",
    "Ctrl-b \" (quotation mark) splits the active terminal window horizontally. Switch between the windows with Ctrl-b and then a directional arrow key.\n",
    "\n",
    "Ctrl-b % (percent sign) splits the active terminal window vertically. Switch between the windows with Ctrl-b and then a directional arrow key.\n",
    "\n",
    "Ctrl-b d (lowercase D) to detach the session (it keeps running in the background). You can logout, log back in, and tmux attach to re-attach a previously detached session.\n",
    "\n",
    "Add a scrollbar to tmux window in Linux: echo \"set -g terminal-overrides 'xterm*:smcup@:rmcup@'\" >> ~/.tmux.conf"
   ]
  },
  {
   "cell_type": "markdown",
   "id": "01301d14",
   "metadata": {},
   "source": [
    "tmux uses a prefix for all of its commands, by default it is Ctrl-b. This and many other behaviors of tmux can be changed via the configuration file ~/.tmux.conf. It's similar to vim in this sense with .vimrc."
   ]
  },
  {
   "cell_type": "markdown",
   "id": "21ae26fa",
   "metadata": {},
   "source": [
    "# Live session 3"
   ]
  },
  {
   "cell_type": "code",
   "execution_count": null,
   "id": "64eb9118",
   "metadata": {},
   "outputs": [],
   "source": []
  },
  {
   "cell_type": "code",
   "execution_count": null,
   "id": "4e924e5f",
   "metadata": {},
   "outputs": [],
   "source": []
  },
  {
   "cell_type": "markdown",
   "id": "7a41e264",
   "metadata": {},
   "source": [
    "## paperspace setup"
   ]
  },
  {
   "cell_type": "code",
   "execution_count": null,
   "id": "d0ecc867",
   "metadata": {},
   "outputs": [],
   "source": []
  },
  {
   "cell_type": "code",
   "execution_count": null,
   "id": "43f12c5c",
   "metadata": {},
   "outputs": [],
   "source": []
  },
  {
   "cell_type": "code",
   "execution_count": null,
   "id": "7d58c8f2",
   "metadata": {},
   "outputs": [],
   "source": []
  },
  {
   "cell_type": "markdown",
   "id": "10c59950",
   "metadata": {},
   "source": [
    "# Live session 7"
   ]
  },
  {
   "cell_type": "markdown",
   "id": "20a69519",
   "metadata": {},
   "source": [
    "**`pip install kaggle --user`**\n",
    "\n",
    "**`shift+g`** --> go to the end of line in vim editor\n",
    "\n",
    "**`o`** --> go to the next line in vim\n",
    "\n",
    "insert below command line in .bashrc:\n",
    "\n",
    "**`export PATH=~/.local/bin:$PATH`**\n",
    "\n",
    "**`mkdir paddy`**\n",
    "\n",
    "**`cd paddy`**\n",
    "\n",
    "**`kaggle competitions download -c paddy-disease-classification`**\n",
    "\n",
    "**`unzip -q zip_file`** --> quietly unzip the file\n",
    "\n",
    "**`ls train_immages/ |head`** --> shows first 10 lines of the input\n",
    "\n",
    "**`ls train_images/bacterial_leaf_blight/ |wc`** --> shows word counts\n",
    "\n",
    "**`ls train_images/bacterial_leaf_blight/ |wc -l`** --> shows line count\n",
    "\n",
    "**`cat train.csv | head`**\n",
    "\n",
    "**`head train.csv`**\n",
    "\n",
    "**`cat train.csv | grep ADT45 | wc -l`**"
   ]
  },
  {
   "cell_type": "code",
   "execution_count": null,
   "id": "61571cd9",
   "metadata": {},
   "outputs": [],
   "source": []
  },
  {
   "cell_type": "markdown",
   "id": "bc564e23",
   "metadata": {
    "ExecuteTime": {
     "end_time": "2023-01-19T11:21:10.310457Z",
     "start_time": "2023-01-19T11:21:10.300437Z"
    }
   },
   "source": [
    "nvidia-smi dmon\n",
    "\n",
    "check sm and mem columns\n",
    "\n",
    "a low sm percentage means your i/o processing time is too high\n",
    "\n",
    "if the image folder is in /storage/notebook they might be in network drive and it can slow things down.\n",
    "\n",
    "- one solution for that is to move the images to the local machine so they are not in the network drive\n",
    "\n",
    "- the second is to resize images ahead of time to make a more reasonable size\n",
    "\n",
    "- the third would be to decrease the amount of augmentation\n",
    "\n",
    "- or another would be to pick a different instance type with more cpus"
   ]
  },
  {
   "cell_type": "code",
   "execution_count": null,
   "id": "3c037e7b",
   "metadata": {},
   "outputs": [],
   "source": []
  },
  {
   "cell_type": "code",
   "execution_count": null,
   "id": "8eb09ac5",
   "metadata": {},
   "outputs": [],
   "source": []
  },
  {
   "cell_type": "markdown",
   "id": "4c5a7f82",
   "metadata": {},
   "source": [
    "how to save vim editor\n",
    "\n",
    "1. Switch to command mode by pressing the Esc key.\n",
    "\n",
    "2. Press : (colon) to open the prompt bar in the bottom left corner of the window.\n",
    "\n",
    "3. Type x after the colon and hit Enter. This will save the changes and exit."
   ]
  },
  {
   "cell_type": "code",
   "execution_count": null,
   "id": "350d0ff8",
   "metadata": {},
   "outputs": [],
   "source": []
  },
  {
   "cell_type": "markdown",
   "id": "7f9722a0",
   "metadata": {},
   "source": [
    "# Live session 8 "
   ]
  },
  {
   "cell_type": "code",
   "execution_count": null,
   "id": "91b78e1f",
   "metadata": {},
   "outputs": [],
   "source": [
    "# in terminal \n",
    "# conda env fastai_env\n",
    "kaggle competitions -h\n",
    "kaggle competition list - h\n",
    "\n",
    "kaggle competitions list"
   ]
  },
  {
   "cell_type": "code",
   "execution_count": null,
   "id": "6ec6974e",
   "metadata": {},
   "outputs": [],
   "source": []
  },
  {
   "cell_type": "code",
   "execution_count": null,
   "id": "d8ebd26f",
   "metadata": {},
   "outputs": [],
   "source": []
  },
  {
   "cell_type": "code",
   "execution_count": null,
   "id": "92739409",
   "metadata": {},
   "outputs": [],
   "source": []
  },
  {
   "cell_type": "code",
   "execution_count": null,
   "id": "7553269d",
   "metadata": {},
   "outputs": [],
   "source": []
  },
  {
   "cell_type": "markdown",
   "id": "5ddce287",
   "metadata": {},
   "source": [
    "\n",
    "for like running stuff we want to put in a separate version of python so when i type a command like python what it's actually doing is it's finding this somewhere on your hard drive and running that program and you actually want to know which one is it running and so you can type which followed by the thing that you want to run python and it's going to tell you this is running from something called slash user slash bin slash python now on the other hand the user i created which is called jph00 um if i want to find out where i am"
   ]
  },
  {
   "cell_type": "markdown",
   "id": "386134e3",
   "metadata": {},
   "source": [
    "username and password all the time so i never use almost never use http getclone for my own repositories instead i use ssh so let's delete that directory and get clone with ssh so click ssh and copy and let's take a look again at this error we got okay so why do we not have permission that's because it doesn't know who we are and doesn't know that we have permission to copy and change this repository ssh is really nifty it doesn't use passwords instead we create a secret key on our computer called the private key\n",
    "25:24\n",
    "and the second thing called the public key which we can give to other people and then anybody who has our public key will be able to accept uh we will be able to log into basically but they can't log in to us that's why it's cool it's not like a password it's a one-way thing so we can get into github into our repos um but nobody on github could like log into our computer or anything so we need to create it's called a key pair a public key and a cut private key so to do that you type ssh"
   ]
  }
 ],
 "metadata": {
  "kernelspec": {
   "display_name": "fastai_env",
   "language": "python",
   "name": "fastai_env"
  },
  "language_info": {
   "codemirror_mode": {
    "name": "ipython",
    "version": 3
   },
   "file_extension": ".py",
   "mimetype": "text/x-python",
   "name": "python",
   "nbconvert_exporter": "python",
   "pygments_lexer": "ipython3",
   "version": "3.9.0"
  },
  "toc": {
   "base_numbering": 1,
   "nav_menu": {},
   "number_sections": true,
   "sideBar": true,
   "skip_h1_title": false,
   "title_cell": "Table of Contents",
   "title_sidebar": "Contents",
   "toc_cell": false,
   "toc_position": {
    "height": "calc(100% - 180px)",
    "left": "10px",
    "top": "150px",
    "width": "213.225px"
   },
   "toc_section_display": true,
   "toc_window_display": false
  },
  "varInspector": {
   "cols": {
    "lenName": 16,
    "lenType": 16,
    "lenVar": 40
   },
   "kernels_config": {
    "python": {
     "delete_cmd_postfix": "",
     "delete_cmd_prefix": "del ",
     "library": "var_list.py",
     "varRefreshCmd": "print(var_dic_list())"
    },
    "r": {
     "delete_cmd_postfix": ") ",
     "delete_cmd_prefix": "rm(",
     "library": "var_list.r",
     "varRefreshCmd": "cat(var_dic_list()) "
    }
   },
   "types_to_exclude": [
    "module",
    "function",
    "builtin_function_or_method",
    "instance",
    "_Feature"
   ],
   "window_display": false
  }
 },
 "nbformat": 4,
 "nbformat_minor": 5
}
